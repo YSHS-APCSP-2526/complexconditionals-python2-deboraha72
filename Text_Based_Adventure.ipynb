{
  "nbformat": 4,
  "nbformat_minor": 0,
  "metadata": {
    "colab": {
      "provenance": [],
      "toc_visible": true,
      "include_colab_link": true
    },
    "kernelspec": {
      "name": "python3",
      "display_name": "Python 3"
    },
    "language_info": {
      "name": "python"
    }
  },
  "cells": [
    {
      "cell_type": "markdown",
      "metadata": {
        "id": "view-in-github",
        "colab_type": "text"
      },
      "source": [
        "<a href=\"https://colab.research.google.com/github/YSHS-APCSP-2526/complexconditionals-python2-deboraha72/blob/main/Text_Based_Adventure.ipynb\" target=\"_parent\"><img src=\"https://colab.research.google.com/assets/colab-badge.svg\" alt=\"Open In Colab\"/></a>"
      ]
    },
    {
      "cell_type": "markdown",
      "source": [
        "#Requirements for text based adventure\n",
        "1. You must have at least 2 different \"paths\" that are at least 4 decisions in length\n",
        "2. Include an element of randomness (from the random library)\n",
        "3. Include a list that is core to the text based adventure\n",
        "4. Include a function that is called within your program that includes a while loop, and a parameter that influences a conditional statement in your function.\n",
        "5. Commented Code.\n",
        "6. A [digital flowchart](https://docs.google.com/document/d/1p2k3wL6gzjYWBuWxwEQptmbbOZZNsQrthlC12SNtYgY/edit?usp=sharing) that follows accepted symbols for representing code. You can use google slides or [draw.io](https://www.drawio.com/) for the flowchart."
      ],
      "metadata": {
        "id": "zpSmche7G_jy"
      }
    },
    {
      "cell_type": "code",
      "source": [
        "def haunted_house():\n",
        "  print(\"WELCOME to the haunted house. \\n\\nDarkness falls upon this house. \\nEnter now, if you are able. \\nAll are welcome, with one exception.\\nThe price of admission is more than a trifle.\\nHaunting awaits those who cross the threshold. \")\n",
        "  answer=input(\"State your choice to enter or not: Yes/No   \").lower()\n",
        "\n",
        "  if answer == \"yes\":\n",
        "    print (\"\\nThe door creeks open.../n In the distance you see a lady...\\n her dark hair covers her face, her head drops and rolls over to you.\")\n",
        "\n",
        "  else:\n",
        "    print(\"\\nYou died!!!\")\n",
        "\n",
        "\n"
      ],
      "metadata": {
        "id": "DToswc3clKpf"
      },
      "execution_count": 22,
      "outputs": []
    },
    {
      "cell_type": "code",
      "source": [
        "haunted_house()"
      ],
      "metadata": {
        "id": "LQuG-KfJlMj3",
        "colab": {
          "base_uri": "https://localhost:8080/"
        },
        "outputId": "03a7d41b-405a-4662-cd08-b05736509ac5"
      },
      "execution_count": 23,
      "outputs": [
        {
          "output_type": "stream",
          "name": "stdout",
          "text": [
            "WELCOME to the haunted house. \n",
            "\n",
            "Darkness falls upon this house. \n",
            "Enter now, if you are able. \n",
            "All are welcome, with one exception.\n",
            "The price of admission is more than a trifle.\n",
            "Haunting awaits those who cross the threshold. \n",
            "State your choice to enter or not: Yes/No   No\n",
            "\n",
            "You died\n"
          ]
        }
      ]
    }
  ]
}