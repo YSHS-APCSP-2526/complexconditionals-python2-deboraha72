{
  "nbformat": 4,
  "nbformat_minor": 0,
  "metadata": {
    "colab": {
      "provenance": [],
      "toc_visible": true,
      "include_colab_link": true
    },
    "kernelspec": {
      "name": "python3",
      "display_name": "Python 3"
    },
    "language_info": {
      "name": "python"
    }
  },
  "cells": [
    {
      "cell_type": "markdown",
      "metadata": {
        "id": "view-in-github",
        "colab_type": "text"
      },
      "source": [
        "<a href=\"https://colab.research.google.com/github/YSHS-APCSP-2526/complexconditionals-python2-deboraha72/blob/main/Text_Based_Adventure.ipynb\" target=\"_parent\"><img src=\"https://colab.research.google.com/assets/colab-badge.svg\" alt=\"Open In Colab\"/></a>"
      ]
    },
    {
      "cell_type": "markdown",
      "source": [
        "#Requirements for text based adventure\n",
        "1. You must have at least 2 different \"paths\" that are at least 4 decisions in length\n",
        "2. Include an element of randomness (from the random library)\n",
        "3. Include a list that is core to the text based adventure\n",
        "4. Include a function that is called within your program that includes a while loop, and a parameter that influences a conditional statement in your function.\n",
        "5. Commented Code.\n",
        "6. A [digital flowchart](https://docs.google.com/document/d/1p2k3wL6gzjYWBuWxwEQptmbbOZZNsQrthlC12SNtYgY/edit?usp=sharing) that follows accepted symbols for representing code. You can use google slides or [draw.io](https://www.drawio.com/) for the flowchart."
      ],
      "metadata": {
        "id": "zpSmche7G_jy"
      }
    },
    {
      "cell_type": "code",
      "source": [
        "def intro():\n",
        " response = input(\"You approach a haunted house, you pause at the doorway, do you enter? Y or N\")\n",
        " return response"
      ],
      "metadata": {
        "id": "DToswc3clKpf"
      },
      "execution_count": 14,
      "outputs": []
    },
    {
      "cell_type": "code",
      "source": [
        "def choice(response):\n",
        "\n",
        "  if response == 'yes':\n",
        "    print(\"enter the house, dont die\")\n",
        "  else:\n",
        "    print(\"you are boring\")"
      ],
      "metadata": {
        "id": "LQuG-KfJlMj3"
      },
      "execution_count": 15,
      "outputs": []
    },
    {
      "cell_type": "code",
      "metadata": {
        "id": "9fce5150"
      },
      "source": [
        "import random\n",
        "\n",
        "def random_event():\n",
        "  events = [\"after walking in.\" \"A gust of wind blows the door shut.\", \"a flashlight rolls over to you.\"]\n",
        "  event = random.choice(events)\n",
        "  print(event)"
      ],
      "execution_count": 23,
      "outputs": []
    },
    {
      "cell_type": "code",
      "source": [
        "def main():\n",
        "    response = intro()\n",
        "    choice(response)"
      ],
      "metadata": {
        "id": "eBaaGYeJ7NZW"
      },
      "execution_count": 16,
      "outputs": []
    },
    {
      "cell_type": "code",
      "source": [
        "random_event()"
      ],
      "metadata": {
        "colab": {
          "base_uri": "https://localhost:8080/"
        },
        "id": "Ys6JOAmW-8Ei",
        "outputId": "2142aea0-358c-4087-a5a3-4836029fa53b"
      },
      "execution_count": 25,
      "outputs": [
        {
          "output_type": "stream",
          "name": "stdout",
          "text": [
            "You hear a strange noise.\n"
          ]
        }
      ]
    },
    {
      "cell_type": "code",
      "source": [
        "def open():\n",
        "  pass"
      ],
      "metadata": {
        "id": "GSCFenJT91cE"
      },
      "execution_count": 21,
      "outputs": []
    },
    {
      "cell_type": "code",
      "source": [
        "main()"
      ],
      "metadata": {
        "colab": {
          "base_uri": "https://localhost:8080/"
        },
        "id": "9SXyRWNb8NTg",
        "outputId": "6833b3c5-3ada-415b-eb93-1cc0f9661cd1"
      },
      "execution_count": 19,
      "outputs": [
        {
          "output_type": "stream",
          "name": "stdout",
          "text": [
            "You approach a haunted house, you pause at the doorway, do you enter? Y or Nyes\n",
            "enter the house, dont die\n"
          ]
        }
      ]
    }
  ]
}